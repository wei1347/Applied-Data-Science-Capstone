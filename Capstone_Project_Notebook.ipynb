{
  "nbformat": 4,
  "nbformat_minor": 0,
  "metadata": {
    "colab": {
      "name": "Capstone Project Notebook.ipynb",
      "provenance": [],
      "authorship_tag": "ABX9TyOFMYu5lgXaKx+X6lgqkuz/"
    },
    "kernelspec": {
      "name": "python3",
      "display_name": "Python 3"
    },
    "language_info": {
      "name": "python"
    }
  },
  "cells": [
    {
      "cell_type": "markdown",
      "metadata": {
        "id": "G0xxAwUBHjHl"
      },
      "source": [
        "# **1.This  notebook will be mainly used for the capstone project on Coursera IBM.**"
      ]
    },
    {
      "cell_type": "markdown",
      "metadata": {
        "id": "AMSDd4JBHzrt"
      },
      "source": [
        "# 2.Import the pandas library as pd.\n",
        "# 3.Import the Numpy library as np."
      ]
    },
    {
      "cell_type": "code",
      "metadata": {
        "id": "wAHWUnI9Ij2i"
      },
      "source": [
        "import pandas as pd\n",
        "import numpy as np"
      ],
      "execution_count": null,
      "outputs": []
    },
    {
      "cell_type": "markdown",
      "metadata": {
        "id": "WzGOuvmJIRO0"
      },
      "source": [
        "# 4. Print the following the statement: Hello Capstone Project Course!"
      ]
    },
    {
      "cell_type": "code",
      "metadata": {
        "colab": {
          "base_uri": "https://localhost:8080/"
        },
        "id": "OsPEI6Z6Hm5O",
        "outputId": "fe778367-5af4-441b-fe4b-78fef868ecae"
      },
      "source": [
        "print(\"Hello Capstone Porject Coures\")"
      ],
      "execution_count": null,
      "outputs": [
        {
          "output_type": "stream",
          "text": [
            "Hello Capstone Porject Coures\n"
          ],
          "name": "stdout"
        }
      ]
    },
    {
      "cell_type": "code",
      "metadata": {
        "id": "3VEQqucVIxkn"
      },
      "source": [
        ""
      ],
      "execution_count": null,
      "outputs": []
    }
  ]
}