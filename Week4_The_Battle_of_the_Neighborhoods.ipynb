{
  "nbformat": 4,
  "nbformat_minor": 0,
  "metadata": {
    "colab": {
      "name": "Week4-The Battle of the Neighborhoods.ipynb",
      "provenance": [],
      "authorship_tag": "ABX9TyME1H8W7xDlY7bKslDIUPTA",
      "include_colab_link": true
    },
    "kernelspec": {
      "name": "python3",
      "display_name": "Python 3"
    },
    "language_info": {
      "name": "python"
    }
  },
  "cells": [
    {
      "cell_type": "markdown",
      "metadata": {
        "id": "view-in-github",
        "colab_type": "text"
      },
      "source": [
        "<a href=\"https://colab.research.google.com/github/wei1347/Coursera_Capstone/blob/main/Week4_The_Battle_of_the_Neighborhoods.ipynb\" target=\"_parent\"><img src=\"https://colab.research.google.com/assets/colab-badge.svg\" alt=\"Open In Colab\"/></a>"
      ]
    },
    {
      "cell_type": "markdown",
      "metadata": {
        "id": "bI1310S7lOS4"
      },
      "source": [
        "# Capstone Project - The Battle of the Neighborhoods (Week 1 - Part 1)\n",
        "\n",
        "### Applied Data Science Capstone by IBM/Coursera"
      ]
    },
    {
      "cell_type": "markdown",
      "metadata": {
        "id": "pNNLYDOAlkVO"
      },
      "source": [
        "## Introduction: Business Problem"
      ]
    },
    {
      "cell_type": "markdown",
      "metadata": {
        "id": "32azA9Pmme95"
      },
      "source": [
        ""
      ]
    },
    {
      "cell_type": "markdown",
      "metadata": {
        "id": "FaASNmgxmTSI"
      },
      "source": [
        "# Capstone Project - The Battle of the Neighborhoods (Week 1 - Part 2)"
      ]
    },
    {
      "cell_type": "markdown",
      "metadata": {
        "id": "VEmhxZ0AlpCd"
      },
      "source": [
        "## Data "
      ]
    },
    {
      "cell_type": "markdown",
      "metadata": {
        "id": "ITEgVrJTmJ-4"
      },
      "source": [
        ""
      ]
    }
  ]
}