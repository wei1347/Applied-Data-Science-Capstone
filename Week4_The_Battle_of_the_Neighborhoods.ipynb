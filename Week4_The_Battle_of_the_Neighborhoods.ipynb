{
  "nbformat": 4,
  "nbformat_minor": 0,
  "metadata": {
    "colab": {
      "name": "Week4-The Battle of the Neighborhoods.ipynb",
      "provenance": [],
      "authorship_tag": "ABX9TyMqrfWWi1+eiB1fnPK/u7jv"
    },
    "kernelspec": {
      "name": "python3",
      "display_name": "Python 3"
    },
    "language_info": {
      "name": "python"
    }
  },
  "cells": [
    {
      "cell_type": "markdown",
      "metadata": {
        "id": "bI1310S7lOS4"
      },
      "source": [
        "# Capstone Project - The Battle of the Neighborhoods (Week 1 - Part 1)\n",
        "\n",
        "### Applied Data Science Capstone by IBM/Coursera"
      ]
    },
    {
      "cell_type": "markdown",
      "metadata": {
        "id": "pNNLYDOAlkVO"
      },
      "source": [
        "## Introduction: Business Problem"
      ]
    },
    {
      "cell_type": "markdown",
      "metadata": {
        "id": "32azA9Pmme95"
      },
      "source": [
        "In this project, we are going to find a suitable place to open a new Chinese restaurant in Toronto. It is also targeted to those business people who want to find the best location for their company. As many Asian people have immigrated to the country. The marketing report provides that Chinese cuisines have become extremely popular because they offer a healthy alternative to regular native eating habits. That's why the owner of the new Chinese restaurant can have great success and profit. However, as with any business, opening a new restaurant requires serious considerations and is complicated. In specific, the location of the restaurant plays a crucial factor that will influence whether it will have success or a failure. Therefore, our project will attempt to answer the questions \n",
        "1. Where should the investor open a Chinese Restaurant?\n",
        "2. Where should I go If I want great Chinese food?"
      ]
    },
    {
      "cell_type": "markdown",
      "metadata": {
        "id": "FaASNmgxmTSI"
      },
      "source": [
        "# Capstone Project - The Battle of the Neighborhoods (Week 1 - Part 2)"
      ]
    },
    {
      "cell_type": "markdown",
      "metadata": {
        "id": "VEmhxZ0AlpCd"
      },
      "source": [
        "## Data "
      ]
    },
    {
      "cell_type": "markdown",
      "metadata": {
        "id": "ITEgVrJTmJ-4"
      },
      "source": [
        "\n",
        "\n",
        "For this project we need these following data:\n",
        "\n",
        "1. Toronto City data that contains Borough, Neighborhoods along with there latitudes and longitudes\n",
        "\n",
        "*   Data Source: https://en.wikipedia.org/wiki List_of_postal_codes_of_Canada:_M\n",
        "*   Description: This Wikipedia page contain all the information we need to explore and cluster the neighborhoods in Toronto. We will be required to scrape the Wikipedia page and wrangle the data, clean it, and then read it into a pandas dataframe so that it is in a structured format like the Toronto dataset.\n",
        "\n",
        "\n",
        "2. Geographical Location data using Geocoder Package\n",
        "\n",
        "* Data Source: https://cocl.us/Geospatial_data\n",
        "* Description: The second source of data provided us with the Geographical coordinates of the neighbourhoods with the respective Postal Codes.\n",
        "3. Venue Data using Foursquare API\n",
        "* Data Source: https://foursquare.com/developers/apps\n",
        "* Description: From Foursquare API we can get the name,category,latitude,longitude for each venue.\n",
        "\n"
      ]
    }
  ]
}